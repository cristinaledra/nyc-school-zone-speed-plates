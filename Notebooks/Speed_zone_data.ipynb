{
 "cells": [
  {
   "cell_type": "code",
   "execution_count": 1,
   "id": "dfedf5e8-eb3d-44e1-8756-2f3c397fefe7",
   "metadata": {},
   "outputs": [],
   "source": [
    "import pandas as pd"
   ]
  },
  {
   "cell_type": "code",
   "execution_count": 14,
   "id": "5a742d9d-2ab0-4f68-89a0-68acc289519f",
   "metadata": {},
   "outputs": [],
   "source": [
    "school_speed_df = pd.read_csv(\"2024_school_zone_speeding_nys.csv\")"
   ]
  },
  {
   "cell_type": "code",
   "execution_count": 15,
   "id": "0359fc32-5e2f-4182-9676-2915b224f70c",
   "metadata": {},
   "outputs": [
    {
     "data": {
      "text/html": [
       "<div>\n",
       "<style scoped>\n",
       "    .dataframe tbody tr th:only-of-type {\n",
       "        vertical-align: middle;\n",
       "    }\n",
       "\n",
       "    .dataframe tbody tr th {\n",
       "        vertical-align: top;\n",
       "    }\n",
       "\n",
       "    .dataframe thead th {\n",
       "        text-align: right;\n",
       "    }\n",
       "</style>\n",
       "<table border=\"1\" class=\"dataframe\">\n",
       "  <thead>\n",
       "    <tr style=\"text-align: right;\">\n",
       "      <th></th>\n",
       "      <th>Plate</th>\n",
       "      <th>State</th>\n",
       "      <th>License Type</th>\n",
       "      <th>Summons Number</th>\n",
       "      <th>Issue Date</th>\n",
       "      <th>Violation</th>\n",
       "      <th>Fine Amount</th>\n",
       "      <th>Penalty Amount</th>\n",
       "      <th>Payment Amount</th>\n",
       "      <th>Precinct</th>\n",
       "      <th>County</th>\n",
       "      <th>Issuing Agency</th>\n",
       "      <th>Violation Status</th>\n",
       "      <th>Summons Image</th>\n",
       "    </tr>\n",
       "  </thead>\n",
       "  <tbody>\n",
       "    <tr>\n",
       "      <th>0</th>\n",
       "      <td>FEW2898</td>\n",
       "      <td>NY</td>\n",
       "      <td>PAS</td>\n",
       "      <td>4880743951</td>\n",
       "      <td>01/08/2024</td>\n",
       "      <td>PHTO SCHOOL ZN SPEED VIOLATION</td>\n",
       "      <td>50.0</td>\n",
       "      <td>25.0</td>\n",
       "      <td>78.21</td>\n",
       "      <td>0</td>\n",
       "      <td>MN</td>\n",
       "      <td>DEPARTMENT OF TRANSPORTATION</td>\n",
       "      <td>NaN</td>\n",
       "      <td>View Summons (http://nycserv.nyc.gov/NYCServWe...</td>\n",
       "    </tr>\n",
       "    <tr>\n",
       "      <th>1</th>\n",
       "      <td>LDJ4080</td>\n",
       "      <td>NY</td>\n",
       "      <td>PAS</td>\n",
       "      <td>4880951183</td>\n",
       "      <td>01/09/2024</td>\n",
       "      <td>PHTO SCHOOL ZN SPEED VIOLATION</td>\n",
       "      <td>50.0</td>\n",
       "      <td>25.0</td>\n",
       "      <td>77.95</td>\n",
       "      <td>0</td>\n",
       "      <td>BK</td>\n",
       "      <td>DEPARTMENT OF TRANSPORTATION</td>\n",
       "      <td>NaN</td>\n",
       "      <td>View Summons (http://nycserv.nyc.gov/NYCServWe...</td>\n",
       "    </tr>\n",
       "    <tr>\n",
       "      <th>2</th>\n",
       "      <td>LBR4737</td>\n",
       "      <td>NY</td>\n",
       "      <td>PAS</td>\n",
       "      <td>4881178696</td>\n",
       "      <td>01/12/2024</td>\n",
       "      <td>PHTO SCHOOL ZN SPEED VIOLATION</td>\n",
       "      <td>50.0</td>\n",
       "      <td>25.0</td>\n",
       "      <td>78.16</td>\n",
       "      <td>0</td>\n",
       "      <td>MN</td>\n",
       "      <td>DEPARTMENT OF TRANSPORTATION</td>\n",
       "      <td>NaN</td>\n",
       "      <td>View Summons (http://nycserv.nyc.gov/NYCServWe...</td>\n",
       "    </tr>\n",
       "    <tr>\n",
       "      <th>3</th>\n",
       "      <td>LDD2599</td>\n",
       "      <td>NY</td>\n",
       "      <td>PAS</td>\n",
       "      <td>4883119658</td>\n",
       "      <td>01/28/2024</td>\n",
       "      <td>PHTO SCHOOL ZN SPEED VIOLATION</td>\n",
       "      <td>50.0</td>\n",
       "      <td>25.0</td>\n",
       "      <td>77.66</td>\n",
       "      <td>0</td>\n",
       "      <td>QN</td>\n",
       "      <td>DEPARTMENT OF TRANSPORTATION</td>\n",
       "      <td>NaN</td>\n",
       "      <td>View Summons (http://nycserv.nyc.gov/NYCServWe...</td>\n",
       "    </tr>\n",
       "    <tr>\n",
       "      <th>4</th>\n",
       "      <td>HLM6777</td>\n",
       "      <td>NY</td>\n",
       "      <td>PAS</td>\n",
       "      <td>4884275172</td>\n",
       "      <td>02/07/2024</td>\n",
       "      <td>PHTO SCHOOL ZN SPEED VIOLATION</td>\n",
       "      <td>50.0</td>\n",
       "      <td>25.0</td>\n",
       "      <td>77.64</td>\n",
       "      <td>0</td>\n",
       "      <td>BX</td>\n",
       "      <td>DEPARTMENT OF TRANSPORTATION</td>\n",
       "      <td>NaN</td>\n",
       "      <td>View Summons (http://nycserv.nyc.gov/NYCServWe...</td>\n",
       "    </tr>\n",
       "  </tbody>\n",
       "</table>\n",
       "</div>"
      ],
      "text/plain": [
       "     Plate State License Type  Summons Number  Issue Date  \\\n",
       "0  FEW2898    NY          PAS      4880743951  01/08/2024   \n",
       "1  LDJ4080    NY          PAS      4880951183  01/09/2024   \n",
       "2  LBR4737    NY          PAS      4881178696  01/12/2024   \n",
       "3  LDD2599    NY          PAS      4883119658  01/28/2024   \n",
       "4  HLM6777    NY          PAS      4884275172  02/07/2024   \n",
       "\n",
       "                        Violation  Fine Amount  Penalty Amount  \\\n",
       "0  PHTO SCHOOL ZN SPEED VIOLATION         50.0            25.0   \n",
       "1  PHTO SCHOOL ZN SPEED VIOLATION         50.0            25.0   \n",
       "2  PHTO SCHOOL ZN SPEED VIOLATION         50.0            25.0   \n",
       "3  PHTO SCHOOL ZN SPEED VIOLATION         50.0            25.0   \n",
       "4  PHTO SCHOOL ZN SPEED VIOLATION         50.0            25.0   \n",
       "\n",
       "   Payment Amount  Precinct County                Issuing Agency  \\\n",
       "0           78.21         0     MN  DEPARTMENT OF TRANSPORTATION   \n",
       "1           77.95         0     BK  DEPARTMENT OF TRANSPORTATION   \n",
       "2           78.16         0     MN  DEPARTMENT OF TRANSPORTATION   \n",
       "3           77.66         0     QN  DEPARTMENT OF TRANSPORTATION   \n",
       "4           77.64         0     BX  DEPARTMENT OF TRANSPORTATION   \n",
       "\n",
       "  Violation Status                                      Summons Image  \n",
       "0              NaN  View Summons (http://nycserv.nyc.gov/NYCServWe...  \n",
       "1              NaN  View Summons (http://nycserv.nyc.gov/NYCServWe...  \n",
       "2              NaN  View Summons (http://nycserv.nyc.gov/NYCServWe...  \n",
       "3              NaN  View Summons (http://nycserv.nyc.gov/NYCServWe...  \n",
       "4              NaN  View Summons (http://nycserv.nyc.gov/NYCServWe...  "
      ]
     },
     "execution_count": 15,
     "metadata": {},
     "output_type": "execute_result"
    }
   ],
   "source": [
    "school_speed_df.head()"
   ]
  },
  {
   "cell_type": "code",
   "execution_count": 16,
   "id": "b2a65934-333a-4b17-9e5b-cb85c20323ab",
   "metadata": {},
   "outputs": [
    {
     "name": "stdout",
     "output_type": "stream",
     "text": [
      "<class 'pandas.core.frame.DataFrame'>\n",
      "RangeIndex: 3261936 entries, 0 to 3261935\n",
      "Data columns (total 14 columns):\n",
      " #   Column            Dtype  \n",
      "---  ------            -----  \n",
      " 0   Plate             object \n",
      " 1   State             object \n",
      " 2   License Type      object \n",
      " 3   Summons Number    int64  \n",
      " 4   Issue Date        object \n",
      " 5   Violation         object \n",
      " 6   Fine Amount       float64\n",
      " 7   Penalty Amount    float64\n",
      " 8   Payment Amount    float64\n",
      " 9   Precinct          int64  \n",
      " 10  County            object \n",
      " 11  Issuing Agency    object \n",
      " 12  Violation Status  object \n",
      " 13  Summons Image     object \n",
      "dtypes: float64(3), int64(2), object(9)\n",
      "memory usage: 348.4+ MB\n"
     ]
    }
   ],
   "source": [
    "school_speed_df.info()"
   ]
  },
  {
   "cell_type": "code",
   "execution_count": 17,
   "id": "67612a45-8ee8-4a39-87a9-65015c902ce6",
   "metadata": {},
   "outputs": [
    {
     "data": {
      "text/plain": [
       "Plate\n",
       "LCM8254    563\n",
       "LHR1977    467\n",
       "LHY9227    284\n",
       "HGJ6612    196\n",
       "LNB2720    158\n",
       "          ... \n",
       "KNS4695      1\n",
       "KYJ1454      1\n",
       "JNK6613      1\n",
       "ALE5389      1\n",
       "LRP1663      1\n",
       "Name: count, Length: 1357786, dtype: int64"
      ]
     },
     "execution_count": 17,
     "metadata": {},
     "output_type": "execute_result"
    }
   ],
   "source": [
    "school_speed_df[\"Plate\"].value_counts()"
   ]
  },
  {
   "cell_type": "code",
   "execution_count": 19,
   "id": "38018378-7c85-458e-af1a-a5d7697f6ab5",
   "metadata": {},
   "outputs": [],
   "source": [
    "speed_plates_sorted_df = school_speed_df[\"Plate\"].value_counts()"
   ]
  },
  {
   "cell_type": "code",
   "execution_count": 23,
   "id": "002da632-5a63-422d-929c-36b238165f67",
   "metadata": {},
   "outputs": [
    {
     "data": {
      "text/plain": [
       "Plate\n",
       "LCM8254    563\n",
       "LHR1977    467\n",
       "LHY9227    284\n",
       "HGJ6612    196\n",
       "LNB2720    158\n",
       "          ... \n",
       "KNY5495     60\n",
       "GEF5892     60\n",
       "KVH8515     60\n",
       "HAL2705     60\n",
       "KDJ2481     60\n",
       "Name: count, Length: 200, dtype: int64"
      ]
     },
     "execution_count": 23,
     "metadata": {},
     "output_type": "execute_result"
    }
   ],
   "source": [
    "speed_plates_sorted_df.head(200)"
   ]
  },
  {
   "cell_type": "code",
   "execution_count": 24,
   "id": "cf5eb7ba-2552-40ef-b49f-e6fed86a238b",
   "metadata": {},
   "outputs": [],
   "source": [
    "speed_plates_sorted_df.head(200).to_csv(\"top_200_school_zone_speed_plates.csv\")"
   ]
  },
  {
   "cell_type": "code",
   "execution_count": null,
   "id": "9e25c38a-74df-428a-8b0b-fc34352d9f75",
   "metadata": {},
   "outputs": [],
   "source": []
  }
 ],
 "metadata": {
  "kernelspec": {
   "display_name": "Python 3 (ipykernel)",
   "language": "python",
   "name": "python3"
  },
  "language_info": {
   "codemirror_mode": {
    "name": "ipython",
    "version": 3
   },
   "file_extension": ".py",
   "mimetype": "text/x-python",
   "name": "python",
   "nbconvert_exporter": "python",
   "pygments_lexer": "ipython3",
   "version": "3.12.5"
  }
 },
 "nbformat": 4,
 "nbformat_minor": 5
}
