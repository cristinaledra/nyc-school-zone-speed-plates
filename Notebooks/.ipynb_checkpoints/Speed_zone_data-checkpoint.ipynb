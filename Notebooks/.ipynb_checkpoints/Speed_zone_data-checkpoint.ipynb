{
 "cells": [
  {
   "cell_type": "markdown",
   "id": "94787133-c457-4221-82c4-fd550077c26d",
   "metadata": {},
   "source": [
    "### Analysis of school zone speeding\n",
    "\n",
    "This notebook analyzes speeding in school zones for the year 2024"
   ]
  },
  {
   "cell_type": "code",
   "execution_count": null,
   "id": "dfedf5e8-eb3d-44e1-8756-2f3c397fefe7",
   "metadata": {},
   "outputs": [],
   "source": [
    "import pandas as pd"
   ]
  },
  {
   "cell_type": "code",
   "execution_count": null,
   "id": "5a742d9d-2ab0-4f68-89a0-68acc289519f",
   "metadata": {},
   "outputs": [],
   "source": [
    "school_speed_df = pd.read_csv(\"../data/2024_school_zone_speeding_nys.csv\")"
   ]
  },
  {
   "cell_type": "code",
   "execution_count": null,
   "id": "0359fc32-5e2f-4182-9676-2915b224f70c",
   "metadata": {},
   "outputs": [],
   "source": [
    "school_speed_df.head()"
   ]
  },
  {
   "cell_type": "code",
   "execution_count": null,
   "id": "b2a65934-333a-4b17-9e5b-cb85c20323ab",
   "metadata": {},
   "outputs": [],
   "source": [
    "school_speed_df.info()"
   ]
  },
  {
   "cell_type": "code",
   "execution_count": null,
   "id": "67612a45-8ee8-4a39-87a9-65015c902ce6",
   "metadata": {},
   "outputs": [],
   "source": [
    "school_speed_df[\"Plate\"].value_counts()"
   ]
  },
  {
   "cell_type": "code",
   "execution_count": null,
   "id": "38018378-7c85-458e-af1a-a5d7697f6ab5",
   "metadata": {},
   "outputs": [],
   "source": [
    "speed_plates_sorted_df = school_speed_df[\"Plate\"].value_counts()"
   ]
  },
  {
   "cell_type": "code",
   "execution_count": null,
   "id": "002da632-5a63-422d-929c-36b238165f67",
   "metadata": {},
   "outputs": [],
   "source": [
    "speed_plates_sorted_df.head(200)"
   ]
  },
  {
   "cell_type": "code",
   "execution_count": null,
   "id": "cf5eb7ba-2552-40ef-b49f-e6fed86a238b",
   "metadata": {},
   "outputs": [],
   "source": [
    "speed_plates_sorted_df.head(200).to_csv(\"../Output/top_200_school_zone_speed_plates.csv\")"
   ]
  },
  {
   "cell_type": "code",
   "execution_count": null,
   "id": "9e25c38a-74df-428a-8b0b-fc34352d9f75",
   "metadata": {},
   "outputs": [],
   "source": []
  }
 ],
 "metadata": {
  "kernelspec": {
   "display_name": "Python 3 (ipykernel)",
   "language": "python",
   "name": "python3"
  },
  "language_info": {
   "codemirror_mode": {
    "name": "ipython",
    "version": 3
   },
   "file_extension": ".py",
   "mimetype": "text/x-python",
   "name": "python",
   "nbconvert_exporter": "python",
   "pygments_lexer": "ipython3",
   "version": "3.8.18"
  }
 },
 "nbformat": 4,
 "nbformat_minor": 5
}
